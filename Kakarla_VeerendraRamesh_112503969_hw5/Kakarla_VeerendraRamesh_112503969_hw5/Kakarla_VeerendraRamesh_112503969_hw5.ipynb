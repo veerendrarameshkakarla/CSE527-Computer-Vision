{
  "nbformat": 4,
  "nbformat_minor": 0,
  "metadata": {
    "accelerator": "GPU",
    "anaconda-cloud": {},
    "colab": {
      "name": "CSE527_HW5_fall18_colab.ipynb",
      "provenance": [],
      "collapsed_sections": []
    },
    "kernelspec": {
      "display_name": "Python 3",
      "language": "python",
      "name": "python3"
    },
    "language_info": {
      "codemirror_mode": {
        "name": "ipython",
        "version": 3
      },
      "file_extension": ".py",
      "mimetype": "text/x-python",
      "name": "python",
      "nbconvert_exporter": "python",
      "pygments_lexer": "ipython3",
      "version": "3.6.9"
    }
  },
  "cells": [
    {
      "cell_type": "markdown",
      "metadata": {
        "colab_type": "text",
        "id": "AcamCuuyjYb2"
      },
      "source": [
        "# Action Recognition @ UCF101  \n",
        "**Due date: 11:59 pm on Nov. 19, 2019 (Tuesday)**\n",
        "\n",
        "## Description\n",
        "---\n",
        "In this homework, you will be doing action recognition using Recurrent Neural Network (RNN), (Long-Short Term Memory) LSTM in particular. You will be given a dataset called UCF101, which consists of 101 different actions/classes and for each action, there will be 145 samples. We tagged each sample into either training or testing. Each sample is supposed to be a short video, but we sampled 25 frames from each videos to reduce the amount of data. Consequently, a training sample is an image tuple that forms a 3D volume with one dimension encoding *temporal correlation* between frames and a label indicating what action it is.\n",
        "\n",
        "To tackle this problem, we aim to build a neural network that can not only capture spatial information of each frame but also temporal information between frames. Fortunately, you don't have to do this on your own. RNN — a type of neural network designed to deal with time-series data — is right here for you to use. In particular, you will be using LSTM for this task.\n",
        "\n",
        "Instead of training an end-to-end neural network from scratch whose computation is prohibitively expensive, we divide this into two steps: feature extraction and modelling. Below are the things you need to implement for this homework:\n",
        "- **{35 pts} Feature extraction**. Use any of the [pre-trained models](https://pytorch.org/docs/stable/torchvision/models.html) to extract features from each frame. Specifically, we recommend not to use the activations of the last layer as the features tend to be task specific towards the end of the network. \n",
        "    **hints**: \n",
        "    - A good starting point would be to use a pre-trained VGG16 network, we suggest first fully connected layer `torchvision.models.vgg16` (4096 dim) as features of each video frame. This will result into a 4096x25 matrix for each video. \n",
        "    - Normalize your images using `torchvision.transforms` \n",
        "    ```\n",
        "    normalize = transforms.Normalize(mean=[0.485, 0.456, 0.406], std=[0.229, 0.224, 0.225])\n",
        "    prep = transforms.Compose([ transforms.ToTensor(), normalize ])\n",
        "    prep(img)\n",
        "    The mean and std. mentioned above is specific to Imagenet data\n",
        "    \n",
        "    ```\n",
        "    More details of image preprocessing in PyTorch can be found at http://pytorch.org/tutorials/beginner/data_loading_tutorial.html\n",
        "    \n",
        "- **{35 pts} Modelling**. With the extracted features, build an LSTM network which takes a **dx25** sample as input (where **d** is the dimension of the extracted feature for each frame), and outputs the action label of that sample.\n",
        "- **{20 pts} Evaluation**. After training your network, you need to evaluate your model with the testing data by computing the prediction accuracy **(5 points)**. The baseline test accuracy for this data is 75%, and **10 points** out of 20 is for achieving test accuracy greater than the baseline. Moreover, you need to compare **(5 points)** the result of your network with that of support vector machine (SVM) (stacking the **dx25** feature matrix to a long vector and train a SVM).\n",
        "- **{10 pts} Report**. Details regarding the report can be found in the submission section below.\n",
        "\n",
        "Notice that the size of the raw images is 256x340, whereas your pre-trained model might take **nxn** images as inputs. To solve this problem, instead of resizing the images which unfavorably changes the spatial ratio, we take a better solution: Cropping five **nxn** images, one at the image center and four at the corners and compute the **d**-dim features for each of them, and average these five **d**-dim feature to get a final feature representation for the raw image.\n",
        "For example, VGG takes 224x224 images as inputs, so we take the five 224x224 croppings of the image, compute 4096-dim VGG features for each of them, and then take the mean of these five 4096-dim vectors to be the representation of the image.\n",
        "\n",
        "In order to save you computational time, you need to do the classification task only for **the first 25** classes of the whole dataset. The same applies to those who have access to GPUs. **Bonus 10 points for running and reporting on the entire 101 classes.**\n",
        "\n",
        "\n",
        "## Dataset\n",
        "Download **dataset** at [UCF101](http://vision.cs.stonybrook.edu/~yangwang/public/UCF101_images.tar)(Image data for each video) and the **annos folder** which has the video labels and the label to class name mapping is included in the assignment folder uploaded. \n",
        "\n",
        "\n",
        "UCF101 dataset contains 101 actions and 13,320 videos in total.  \n",
        "\n",
        "+ `annos/actions.txt`  \n",
        "  + lists all the actions (`ApplyEyeMakeup`, .., `YoYo`)   \n",
        "  \n",
        "+ `annots/videos_labels_subsets.txt`  \n",
        "  + lists all the videos (`v_000001`, .., `v_013320`)  \n",
        "  + labels (`1`, .., `101`)  \n",
        "  + subsets (`1` for train, `2` for test)  \n",
        "\n",
        "+ `images/`  \n",
        "  + each folder represents a video\n",
        "  + the video/folder name to class mapping can be found using `annots/videos_labels_subsets.txt`, for e.g. `v_000001` belongs to class 1 i.e. `ApplyEyeMakeup`\n",
        "  + each video folder contains 25 frames  \n",
        "\n",
        "\n",
        "\n",
        "## Some Tutorials\n",
        "- Good materials for understanding RNN and LSTM\n",
        "    - http://blog.echen.me\n",
        "    - http://karpathy.github.io/2015/05/21/rnn-effectiveness/\n",
        "    - http://colah.github.io/posts/2015-08-Understanding-LSTMs/\n",
        "- Implementing RNN and LSTM with PyTorch\n",
        "    - [LSTM with PyTorch](http://pytorch.org/tutorials/beginner/nlp/sequence_models_tutorial.html#sphx-glr-beginner-nlp-sequence-models-tutorial-py)\n",
        "    - [RNN with PyTorch](http://pytorch.org/tutorials/intermediate/char_rnn_classification_tutorial.html)"
      ]
    },
    {
      "cell_type": "markdown",
      "metadata": {
        "colab_type": "text",
        "id": "UdCRwkL7jxtc"
      },
      "source": [
        "---\n",
        "---\n",
        "## **Problem 1.** Feature extraction"
      ]
    },
    {
      "cell_type": "code",
      "metadata": {
        "colab_type": "code",
        "id": "urKQi8oAjYb-",
        "colab": {}
      },
      "source": [
        "# \\*write your codes for feature extraction (You can use multiple cells, this is just a place holder)\n"
      ],
      "execution_count": 0,
      "outputs": []
    },
    {
      "cell_type": "markdown",
      "metadata": {
        "colab_type": "text",
        "id": "UN74WLWpl7zQ"
      },
      "source": [
        "***\n",
        "***\n",
        "## **Problem 2.** Modelling"
      ]
    },
    {
      "cell_type": "markdown",
      "metadata": {
        "colab_type": "text",
        "id": "Do5OSV9Mnmwy"
      },
      "source": [
        "* ##### **Print the size of your training and test data**"
      ]
    },
    {
      "cell_type": "code",
      "metadata": {
        "colab_type": "code",
        "id": "0EGU31IJn5_h",
        "outputId": "b3541df6-f994-4f0f-ffde-d63430381e01",
        "colab": {
          "base_uri": "https://localhost:8080/",
          "height": 51
        }
      },
      "source": [
        "# Don't hardcode the shape of train and test data\n",
        "print('Shape of training data is :', )\n",
        "print('Shape of test/validation data is :', )"
      ],
      "execution_count": 0,
      "outputs": [
        {
          "output_type": "stream",
          "text": [
            "Shape of training data is :\n",
            "Shape of test/validation data is :\n"
          ],
          "name": "stdout"
        }
      ]
    },
    {
      "cell_type": "code",
      "metadata": {
        "colab_type": "code",
        "id": "uqshyjO3mHkt",
        "colab": {}
      },
      "source": [
        "# \\*write your codes for modelling using the extracted feature (You can use multiple cells, this is just a place holder)\n"
      ],
      "execution_count": 0,
      "outputs": []
    },
    {
      "cell_type": "markdown",
      "metadata": {
        "colab_type": "text",
        "id": "v0znm2TMmsDZ"
      },
      "source": [
        "---\n",
        "---\n",
        "## **Problem 3.** Evaluation"
      ]
    },
    {
      "cell_type": "code",
      "metadata": {
        "colab_type": "code",
        "id": "ARtMhcbXmsXk",
        "colab": {}
      },
      "source": [
        "# \\*write your codes for evaluation (You can use multiple cells, this is just a place holder)"
      ],
      "execution_count": 0,
      "outputs": []
    },
    {
      "cell_type": "markdown",
      "metadata": {
        "colab_type": "text",
        "id": "80ZUeqnGv48f"
      },
      "source": [
        "* ##### **Print the train and test accuracy of your model** "
      ]
    },
    {
      "cell_type": "code",
      "metadata": {
        "colab_type": "code",
        "id": "UMMXAjMjv4g5",
        "outputId": "0779152c-501c-4312-8d71-9c2efbb32cbd",
        "colab": {
          "base_uri": "https://localhost:8080/",
          "height": 51
        }
      },
      "source": [
        "# Don't hardcode the train and test accuracy\n",
        "print('Training accuracy is %2.3f :' %(100.00) )\n",
        "print('Test accuracy is %2.3f :' %(100.00) )"
      ],
      "execution_count": 0,
      "outputs": [
        {
          "output_type": "stream",
          "text": [
            "Training accuracy is 100.000 :\n",
            "Test accuracy is 100.000 :\n"
          ],
          "name": "stdout"
        }
      ]
    },
    {
      "cell_type": "markdown",
      "metadata": {
        "colab_type": "text",
        "id": "eesNQn6FYKQz"
      },
      "source": [
        "* ##### **Print the train and test and test accuracy of SVM** "
      ]
    },
    {
      "cell_type": "code",
      "metadata": {
        "colab_type": "code",
        "id": "ip87hPqTYJtr",
        "outputId": "62743d24-ce79-4a89-e42f-f4af278235d6",
        "colab": {
          "base_uri": "https://localhost:8080/",
          "height": 51
        }
      },
      "source": [
        "# Don't hardcode the train and test accuracy\n",
        "print('Training accuracy is %2.3f :' %(100.00) )\n",
        "print('Test accuracy is %2.3f :' %(100.00) )"
      ],
      "execution_count": 0,
      "outputs": [
        {
          "output_type": "stream",
          "text": [
            "Training accuracy is 100.000 :\n",
            "Test accuracy is 100.000 :\n"
          ],
          "name": "stdout"
        }
      ]
    },
    {
      "cell_type": "markdown",
      "metadata": {
        "colab_type": "text",
        "id": "cL4Y3nHBkwmb"
      },
      "source": [
        "## **Problem 4.** Report"
      ]
    },
    {
      "cell_type": "markdown",
      "metadata": {
        "id": "JbzpDeRRNuHj",
        "colab_type": "text"
      },
      "source": [
        "## **Bonus**\n"
      ]
    },
    {
      "cell_type": "markdown",
      "metadata": {
        "colab_type": "text",
        "id": "jPrhLzuyN-rr"
      },
      "source": [
        "* ##### **Print the size of your training and test data**"
      ]
    },
    {
      "cell_type": "code",
      "metadata": {
        "id": "b8IR6zrwOENz",
        "colab_type": "code",
        "colab": {}
      },
      "source": [
        "# Don't hardcode the shape of train and test data\n",
        "print('Shape of training data is :', )\n",
        "print('Shape of test/validation data is :', )"
      ],
      "execution_count": 0,
      "outputs": []
    },
    {
      "cell_type": "markdown",
      "metadata": {
        "colab_type": "text",
        "id": "GAakVg8-OE_j"
      },
      "source": [
        "* ##### **Modelling and evaluation**"
      ]
    },
    {
      "cell_type": "code",
      "metadata": {
        "id": "QHbPzkcoObLb",
        "colab_type": "code",
        "colab": {}
      },
      "source": [
        "#Write your code for modelling and evaluation"
      ],
      "execution_count": 0,
      "outputs": []
    },
    {
      "cell_type": "markdown",
      "metadata": {
        "colab_type": "text",
        "id": "vb4Wlzw2jYcJ"
      },
      "source": [
        "## Submission\n",
        "---\n",
        "**Runnable source code in ipynb file and a pdf report are required**.\n",
        "\n",
        "The report should be of 3 to 4 pages describing what you have done and learned in this homework and report performance of your model. If you have tried multiple methods, please compare your results. If you are using any external code, please cite it in your report. Note that this homework is designed to help you explore and get familiar with the techniques. The final grading will be largely based on your prediction accuracy and the different methods you tried (different architectures and parameters).\n",
        "\n",
        "Please indicate clearly in your report what model you have tried, what techniques you applied to improve the performance and report their accuracies. The report should be concise and include the highlights of your efforts.\n",
        "The naming convention for report is **Surname_Givenname_SBUID_report*.pdf**\n",
        "\n",
        "When submitting your .zip file through blackboard, please\n",
        "-- name your .zip file as **Surname_Givenname_SBUID_hw*.zip**.\n",
        "\n",
        "This zip file should include:\n",
        "```\n",
        "Surname_Givenname_SBUID_hw*\n",
        "        |---Surname_Givenname_SBUID_hw*.ipynb\n",
        "        |---Surname_Givenname_SBUID_hw*.pdf\n",
        "        |---Surname_Givenname_SBUID_report*.pdf\n",
        "```\n",
        "\n",
        "For instance, student Michael Jordan should submit a zip file named \"Jordan_Michael_111134567_hw5.zip\" for homework5 in this structure:\n",
        "```\n",
        "Jordan_Michael_111134567_hw5\n",
        "        |---Jordan_Michael_111134567_hw5.ipynb\n",
        "        |---Jordan_Michael_111134567_hw5.pdf\n",
        "        |---Jordan_Michael_111134567_report*.pdf\n",
        "```\n",
        "\n",
        "The **Surname_Givenname_SBUID_hw*.pdf** should include a **google shared link**. To generate the **google shared link**, first create a folder named **Surname_Givenname_SBUID_hw*** in your Google Drive with your Stony Brook account. \n",
        "\n",
        "Then right click this folder, click ***Get shareable link***, in the People textfield, enter two TA's emails: ***bo.cao.1@stonybrook.edu*** and ***sayontan.ghosh@stonybrook.edu***. Make sure that TAs who have the link **can edit**, ***not just*** **can view**, and also **uncheck** the **Notify people** box.\n",
        "\n",
        "Colab has a good feature of version control, you should take advantage of this to save your work properly. However, the timestamp of the submission made in blackboard is the only one that we consider for grading. To be more specific, we will only grade the version of your code right before the timestamp of the submission made in blackboard. \n",
        "\n",
        "You are encouraged to post and answer questions on Piazza. Based on the amount of email that we have received in past years, there might be dealys in replying to personal emails. Please ask questions on Piazza and send emails only for personal issues.\n",
        "\n",
        "Be aware that your code will undergo plagiarism check both vertically and horizontally. Please do your own work."
      ]
    }
  ]
}